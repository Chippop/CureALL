{
 "cells": [
  {
   "cell_type": "code",
   "execution_count": 7,
   "metadata": {},
   "outputs": [
    {
     "name": "stdout",
     "output_type": "stream",
     "text": [
      "The autoreload extension is already loaded. To reload it, use:\n",
      "  %reload_ext autoreload\n"
     ]
    }
   ],
   "source": [
    "%load_ext autoreload\n",
    "%autoreload 2\n",
    "import os\n",
    "os.chdir('/vepfs/fs_users/yftc/code/CureALL')\n"
   ]
  },
  {
   "cell_type": "code",
   "execution_count": 9,
   "metadata": {},
   "outputs": [],
   "source": [
    "from unicore.data import (\n",
    "    Dictionary,\n",
    "    NestedDictionaryDataset,\n",
    "    AppendTokenDataset,\n",
    "    PrependTokenDataset,\n",
    "    RightPadDataset,\n",
    "    EpochShuffleDataset,\n",
    "    TokenizeDataset,\n",
    "    RawLabelDataset,\n",
    "    RightPadDataset2D,\n",
    "    FromNumpyDataset,\n",
    "    RawArrayDataset,\n",
    ")\n",
    "from cureall.data.components.atom_type_dataset import AtomTypeDataset\n",
    "from cureall.data.components.coord_pad_dataset import RightPadDatasetCoord\n",
    "from cureall.data.components.cropping_dataset import CroppingDataset\n",
    "from cureall.data.components.distance_dataset import DistanceDataset, EdgeTypeDataset\n",
    "from cureall.data.components.normalize_dataset import NormalizeDataset\n",
    "from cureall.data.components.conformer_sample_dataset import ConformerSampleDataset\n",
    "from cureall.data.components.key_dataset import KeyDataset\n",
    "from cureall.data.components.remove_hydrogen_dataset import RemoveHydrogenDataset\n",
    "from cureall.data.components.lmdb_dataset import LMDBDataset\n",
    "\n",
    "from cureall.data.components.base_datasets import FromNumpyDataset, TTADataset\n",
    "from cureall.data.components.uce_datasets import UCEBaseDataset\n",
    "from cureall.data.components.unimol_tokenizer import UniMolTokenizer"
   ]
  },
  {
   "cell_type": "code",
   "execution_count": 10,
   "metadata": {},
   "outputs": [],
   "source": [
    "from cureall.data.components import UniMolTokenizeDataset, UniMolTokenizer\n",
    "\n",
    "tokenizer = UniMolTokenizer()"
   ]
  },
  {
   "cell_type": "code",
   "execution_count": 57,
   "metadata": {},
   "outputs": [
    {
     "data": {
      "text/plain": [
       "9693"
      ]
     },
     "execution_count": 57,
     "metadata": {},
     "output_type": "execute_result"
    }
   ],
   "source": [
    "raw_dataset = LMDBDataset(\"/vepfs/fs_users/yftc/code/CureALL/datas/lincs/val.lmdb\")\n",
    "# raw_dataset = Add2DConformerDataset(raw_dataset, \"smi\", \"atoms\", \"coordinates\")\n",
    "smi_dataset = KeyDataset(raw_dataset, \"smi\")\n",
    "\n",
    "# train\n",
    "sampled_dataset = ConformerSampleDataset(raw_dataset, 42, \"atoms\", \"coordinates\")\n",
    "# val\n",
    "# sampled_dataset = TTADataset(raw_dataset, 42, \"atoms\", \"coordinates\", 10)\n",
    "\n",
    "dataset = AtomTypeDataset(raw_dataset, sampled_dataset)\n",
    "dataset = RemoveHydrogenDataset(dataset, \"atoms\", \"coordinates\", True, True)\n",
    "\n",
    "dataset.__len__()"
   ]
  },
  {
   "cell_type": "code",
   "execution_count": 54,
   "metadata": {},
   "outputs": [
    {
     "data": {
      "text/plain": [
       "tensor(1071.)"
      ]
     },
     "execution_count": 54,
     "metadata": {},
     "output_type": "execute_result"
    }
   ],
   "source": [
    "import torch\n",
    "raw_dataset[0].keys()\n",
    "raw_dataset[2]['cell_batch'][1]\n",
    "total_sum = torch.sum(raw_dataset[2]['cell_batch'][1])\n",
    "total_sum"
   ]
  },
  {
   "cell_type": "code",
   "execution_count": 5,
   "metadata": {},
   "outputs": [],
   "source": [
    "dataset = CroppingDataset(dataset, 42, \"atoms\", \"coordinates\", 512)\n",
    "dataset = NormalizeDataset(dataset, \"coordinates\", normalize_coord=True)\n",
    "src_dataset = KeyDataset(dataset, \"atoms\")\n",
    "src_dataset = UniMolTokenizeDataset(src_dataset, tokenizer, max_seq_len=512)\n",
    "coord_dataset = KeyDataset(dataset, \"coordinates\")"
   ]
  },
  {
   "cell_type": "code",
   "execution_count": 6,
   "metadata": {},
   "outputs": [],
   "source": [
    "def PrependAndAppend(dataset, pre_token, app_token):\n",
    "    dataset = PrependTokenDataset(dataset, pre_token)\n",
    "    return AppendTokenDataset(dataset, app_token)\n",
    "\n",
    "\n",
    "src_dataset = PrependAndAppend(src_dataset, tokenizer.cls_token_id, tokenizer.sep_token_id)\n",
    "edge_type = EdgeTypeDataset(src_dataset, len(tokenizer))"
   ]
  },
  {
   "cell_type": "code",
   "execution_count": 7,
   "metadata": {},
   "outputs": [],
   "source": [
    "from cureall.data.components import UCEBaseDataset\n",
    "uce_dataset = UCEBaseDataset(raw_dataset)"
   ]
  },
  {
   "cell_type": "code",
   "execution_count": 8,
   "metadata": {},
   "outputs": [
    {
     "data": {
      "text/plain": [
       "(tensor([[     3, 144156,  18105,  ...,      0,      0,      0]]),\n",
       " tensor([[1., 1., 1.,  ..., 0., 0., 0.]]),\n",
       " 41,\n",
       " 1071,\n",
       " tensor([[3.0000e+00, 1.4416e+05, 1.8105e+04,  ..., 0.0000e+00, 0.0000e+00,\n",
       "          0.0000e+00]]))"
      ]
     },
     "execution_count": 8,
     "metadata": {},
     "output_type": "execute_result"
    }
   ],
   "source": [
    "uce_dataset[0]"
   ]
  },
  {
   "cell_type": "code",
   "execution_count": 9,
   "metadata": {},
   "outputs": [],
   "source": [
    "coord_dataset = FromNumpyDataset(coord_dataset)\n",
    "coord_dataset = PrependAndAppend(coord_dataset, 0.0, 0.0)\n",
    "distance_dataset = DistanceDataset(coord_dataset)\n",
    "\n",
    "nest_dataset = NestedDictionaryDataset(\n",
    "    {\n",
    "        \"net_input\": {\n",
    "            \"src_tokens\": RightPadDataset(\n",
    "                src_dataset,\n",
    "                pad_idx=tokenizer.pad_token_id,\n",
    "            ),\n",
    "            \"src_coord\": RightPadDatasetCoord(\n",
    "                coord_dataset,\n",
    "                pad_idx=0,\n",
    "            ),\n",
    "            \"src_distance\": RightPadDataset2D(\n",
    "                distance_dataset,\n",
    "                pad_idx=0,\n",
    "            ),\n",
    "            \"src_edge_type\": RightPadDataset2D(\n",
    "                edge_type,\n",
    "                pad_idx=0,\n",
    "            ),\n",
    "            \"uce_batches\": uce_dataset,\n",
    "            \n",
    "        },\n",
    "        \"smi_name\": RawArrayDataset(smi_dataset),\n",
    "    }\n",
    ")"
   ]
  },
  {
   "cell_type": "code",
   "execution_count": 10,
   "metadata": {},
   "outputs": [],
   "source": [
    "from torch.utils.data import DataLoader\n",
    "\n",
    "dataloader = DataLoader(nest_dataset, batch_size=2, num_workers=0, collate_fn=nest_dataset.collater)"
   ]
  },
  {
   "cell_type": "code",
   "execution_count": 18,
   "metadata": {},
   "outputs": [
    {
     "name": "stdout",
     "output_type": "stream",
     "text": [
      "OrderedDict([('net_input', OrderedDict([('src_tokens', tensor([[1, 4, 5, 4, 4, 4, 4, 4, 4, 4, 4, 6, 4, 4, 4, 4, 4, 4, 4, 4, 4, 4, 4, 4,\n",
      "         5, 4, 6, 4, 4, 4, 4, 5, 4, 6, 5, 4, 4, 4, 4, 4, 4, 5, 6, 6, 2, 0, 0, 0],\n",
      "        [1, 4, 6, 4, 6, 4, 4, 4, 4, 4, 4, 4, 6, 4, 4, 4, 4, 5, 4, 6, 4, 4, 4, 4,\n",
      "         4, 9, 4, 4, 4, 4, 6, 5, 4, 6, 2, 0, 0, 0, 0, 0, 0, 0, 0, 0, 0, 0, 0, 0]])), ('src_coord', tensor([[[ 0.0000,  0.0000,  0.0000],\n",
      "         [-2.7698, -3.3711, -2.0201],\n",
      "         [-2.5422, -3.5812, -0.5955],\n",
      "         [-2.9577, -4.8816, -0.0633],\n",
      "         [-4.4616, -5.0266, -0.0088],\n",
      "         [-5.1330, -5.8453, -0.9290],\n",
      "         [-6.5219, -5.9746, -0.8804],\n",
      "         [-7.2557, -5.2918,  0.0889],\n",
      "         [-6.5996, -4.4686,  1.0054],\n",
      "         [-5.2117, -4.3345,  0.9567],\n",
      "         [-2.0857, -2.6121,  0.2953],\n",
      "         [-1.9946, -2.8338,  1.5090],\n",
      "         [-1.7784, -1.1918, -0.2411],\n",
      "         [-3.1086, -0.4329, -0.3995],\n",
      "         [-2.9519,  1.0258, -0.7711],\n",
      "         [-2.2915,  1.4047, -1.9422],\n",
      "         [-2.1393,  2.7569, -2.2628],\n",
      "         [-2.6512,  3.7575, -1.4233],\n",
      "         [-2.5036,  5.1234, -1.7255],\n",
      "         [-3.0218,  6.1073, -0.8791],\n",
      "         [-3.6940,  5.7359,  0.2825],\n",
      "         [-3.8461,  4.3852,  0.6003],\n",
      "         [-3.3319,  3.3858, -0.2443],\n",
      "         [-3.4763,  2.0241,  0.0615],\n",
      "         [-0.9049, -0.5128,  0.7199],\n",
      "         [ 0.4716, -0.6238,  0.6301],\n",
      "         [ 1.0253, -1.2562, -0.2702],\n",
      "         [ 1.2241,  0.1096,  1.7628],\n",
      "         [ 1.0823, -0.6209,  3.0947],\n",
      "         [ 2.2624, -1.5890,  3.1083],\n",
      "         [ 3.3509, -0.8831,  2.3089],\n",
      "         [ 2.6665,  0.1444,  1.5360],\n",
      "         [ 3.2123,  1.0624,  0.6593],\n",
      "         [ 2.5046,  1.8968,  0.0984],\n",
      "         [ 4.5761,  0.9539,  0.5082],\n",
      "         [ 5.4633,  1.7799, -0.2318],\n",
      "         [ 5.0232,  2.9586, -0.8494],\n",
      "         [ 5.9037,  3.7804, -1.5655],\n",
      "         [ 7.2510,  3.4532, -1.6752],\n",
      "         [ 7.7204,  2.2878, -1.0712],\n",
      "         [ 6.8337,  1.4563, -0.3558],\n",
      "         [ 7.4022,  0.2372,  0.2371],\n",
      "         [ 6.7546, -0.3462,  1.1214],\n",
      "         [ 8.5046, -0.1490, -0.1796],\n",
      "         [ 0.0000,  0.0000,  0.0000],\n",
      "         [ 0.0000,  0.0000,  0.0000],\n",
      "         [ 0.0000,  0.0000,  0.0000],\n",
      "         [ 0.0000,  0.0000,  0.0000]],\n",
      "\n",
      "        [[ 0.0000,  0.0000,  0.0000],\n",
      "         [ 8.3120,  3.1252,  1.2805],\n",
      "         [ 7.2080,  2.2652,  1.5744],\n",
      "         [ 7.1737,  1.1268,  0.8301],\n",
      "         [ 7.9920,  0.8186, -0.0277],\n",
      "         [ 5.9778,  0.2916,  1.1960],\n",
      "         [ 5.1601, -0.0529, -0.0463],\n",
      "         [ 4.4317,  1.1795, -0.5989],\n",
      "         [ 3.5183,  0.7933, -1.7589],\n",
      "         [ 2.5666, -0.3367, -1.3358],\n",
      "         [ 3.3942, -1.5081, -0.7663],\n",
      "         [ 2.5080, -2.6660, -0.2855],\n",
      "         [ 1.6043, -2.2600,  0.7360],\n",
      "         [ 0.3804, -1.7401,  0.4374],\n",
      "         [-0.3912, -1.5668,  1.5974],\n",
      "         [-1.6894, -1.0464,  1.5548],\n",
      "         [-2.2535, -0.6795,  0.3402],\n",
      "         [-3.5531, -0.1501,  0.1961],\n",
      "         [-4.4531,  0.1419,  1.2050],\n",
      "         [-4.2715,  0.0333,  2.4103],\n",
      "         [-5.7594,  0.6809,  0.7397],\n",
      "         [-6.3956,  0.1806, -0.4054],\n",
      "         [-7.6208,  0.7133, -0.8082],\n",
      "         [-8.2138,  1.7376, -0.0684],\n",
      "         [-7.5852,  2.2200,  1.0798],\n",
      "         [-8.3270,  3.4760,  1.9917],\n",
      "         [-6.3637,  1.6949,  1.4917],\n",
      "         [-1.4927, -0.8428, -0.8219],\n",
      "         [-0.1752, -1.3570, -0.7869],\n",
      "         [ 0.4508, -1.4477, -2.1301],\n",
      "         [-0.1878, -2.0507, -2.9926],\n",
      "         [ 1.6605, -0.7969, -2.4023],\n",
      "         [ 2.1877, -0.9208, -3.7591],\n",
      "         [ 4.2071, -1.0560,  0.3333],\n",
      "         [ 0.0000,  0.0000,  0.0000],\n",
      "         [ 0.0000,  0.0000,  0.0000],\n",
      "         [ 0.0000,  0.0000,  0.0000],\n",
      "         [ 0.0000,  0.0000,  0.0000],\n",
      "         [ 0.0000,  0.0000,  0.0000],\n",
      "         [ 0.0000,  0.0000,  0.0000],\n",
      "         [ 0.0000,  0.0000,  0.0000],\n",
      "         [ 0.0000,  0.0000,  0.0000],\n",
      "         [ 0.0000,  0.0000,  0.0000],\n",
      "         [ 0.0000,  0.0000,  0.0000],\n",
      "         [ 0.0000,  0.0000,  0.0000],\n",
      "         [ 0.0000,  0.0000,  0.0000],\n",
      "         [ 0.0000,  0.0000,  0.0000],\n",
      "         [ 0.0000,  0.0000,  0.0000]]])), ('src_distance', tensor([[[0.0000, 4.8080, 4.4320,  ..., 0.0000, 0.0000, 0.0000],\n",
      "         [4.8080, 0.0000, 1.4579,  ..., 0.0000, 0.0000, 0.0000],\n",
      "         [4.4320, 1.4579, 0.0000,  ..., 0.0000, 0.0000, 0.0000],\n",
      "         ...,\n",
      "         [0.0000, 0.0000, 0.0000,  ..., 0.0000, 0.0000, 0.0000],\n",
      "         [0.0000, 0.0000, 0.0000,  ..., 0.0000, 0.0000, 0.0000],\n",
      "         [0.0000, 0.0000, 0.0000,  ..., 0.0000, 0.0000, 0.0000]],\n",
      "\n",
      "        [[0.0000, 8.9719, 7.7178,  ..., 0.0000, 0.0000, 0.0000],\n",
      "         [8.9719, 0.0000, 1.4300,  ..., 0.0000, 0.0000, 0.0000],\n",
      "         [7.7178, 1.4300, 0.0000,  ..., 0.0000, 0.0000, 0.0000],\n",
      "         ...,\n",
      "         [0.0000, 0.0000, 0.0000,  ..., 0.0000, 0.0000, 0.0000],\n",
      "         [0.0000, 0.0000, 0.0000,  ..., 0.0000, 0.0000, 0.0000],\n",
      "         [0.0000, 0.0000, 0.0000,  ..., 0.0000, 0.0000, 0.0000]]])), ('src_edge_type', tensor([[[ 32,  35,  36,  ...,   0,   0,   0],\n",
      "         [125, 128, 129,  ...,   0,   0,   0],\n",
      "         [156, 159, 160,  ...,   0,   0,   0],\n",
      "         ...,\n",
      "         [  0,   0,   0,  ...,   0,   0,   0],\n",
      "         [  0,   0,   0,  ...,   0,   0,   0],\n",
      "         [  0,   0,   0,  ...,   0,   0,   0]],\n",
      "\n",
      "        [[ 32,  35,  37,  ...,   0,   0,   0],\n",
      "         [125, 128, 130,  ...,   0,   0,   0],\n",
      "         [187, 190, 192,  ...,   0,   0,   0],\n",
      "         ...,\n",
      "         [  0,   0,   0,  ...,   0,   0,   0],\n",
      "         [  0,   0,   0,  ...,   0,   0,   0],\n",
      "         [  0,   0,   0,  ...,   0,   0,   0]]])), ('uce_batches', (tensor([[3.0000e+00, 1.4416e+05, 1.8105e+04,  ..., 1.6360e+04, 1.7073e+04,\n",
      "         2.0000e+00],\n",
      "        [3.0000e+00, 1.4416e+05, 1.9996e+04,  ..., 2.6424e+04, 1.3992e+04,\n",
      "         2.0000e+00]]), tensor([[1., 1., 1.,  ..., 1., 1., 1.],\n",
      "        [1., 1., 1.,  ..., 1., 1., 1.]])))])), ('smi_name', ['CN(Cc1ccccc1)C(=O)C(Cc2ccc3ccccc3c2)NC(=O)C4CCCN4C(=O)Nc5ccccc5[N+](=O)[O-]', 'COC(=O)C[C@@H]1CC[C@@H]2[C@H](COc3ccc(NC(=O)c4cccc(Cl)c4)cc3C(=O)N2C)O1'])])\n"
     ]
    }
   ],
   "source": [
    "for item in dataloader:\n",
    "    item = item\n",
    "    print(item)\n",
    "    break"
   ]
  },
  {
   "cell_type": "code",
   "execution_count": 19,
   "metadata": {},
   "outputs": [
    {
     "data": {
      "text/plain": [
       "(tensor([[3.0000e+00, 1.4416e+05, 1.8105e+04,  ..., 1.6360e+04, 1.7073e+04,\n",
       "          2.0000e+00],\n",
       "         [3.0000e+00, 1.4416e+05, 1.9996e+04,  ..., 2.6424e+04, 1.3992e+04,\n",
       "          2.0000e+00]]),\n",
       " tensor([[1., 1., 1.,  ..., 1., 1., 1.],\n",
       "         [1., 1., 1.,  ..., 1., 1., 1.]]))"
      ]
     },
     "execution_count": 19,
     "metadata": {},
     "output_type": "execute_result"
    }
   ],
   "source": [
    "item[\"net_input\"][\"uce_batches\"]"
   ]
  },
  {
   "cell_type": "code",
   "execution_count": 12,
   "metadata": {},
   "outputs": [
    {
     "data": {
      "text/plain": [
       "(torch.Size([2, 48, 48]),\n",
       " torch.Size([2, 48, 48]),\n",
       " torch.Size([2, 48, 3]),\n",
       " torch.Size([2, 48]))"
      ]
     },
     "execution_count": 12,
     "metadata": {},
     "output_type": "execute_result"
    }
   ],
   "source": [
    "item[\"net_input\"][\"src_distance\"].shape, item[\"net_input\"][\"src_edge_type\"].shape, item[\"net_input\"][\n",
    "    \"src_coord\"\n",
    "].shape, item[\"net_input\"][\"src_tokens\"].shape"
   ]
  },
  {
   "cell_type": "code",
   "execution_count": 13,
   "metadata": {},
   "outputs": [],
   "source": [
    "from cureall.models import UniMolModel, UniMolConfig"
   ]
  },
  {
   "cell_type": "code",
   "execution_count": 14,
   "metadata": {},
   "outputs": [],
   "source": [
    "import yaml\n",
    "\n",
    "config = yaml.safe_load(open(\"/home/wangxi/develop/cln/CureALL/configs/model/unimol_only.yaml\"))"
   ]
  },
  {
   "cell_type": "code",
   "execution_count": 15,
   "metadata": {},
   "outputs": [],
   "source": [
    "configs = UniMolConfig(**config)"
   ]
  },
  {
   "cell_type": "code",
   "execution_count": 16,
   "metadata": {},
   "outputs": [],
   "source": [
    "model = UniMolModel(configs)"
   ]
  },
  {
   "cell_type": "code",
   "execution_count": 17,
   "metadata": {},
   "outputs": [
    {
     "data": {
      "text/plain": [
       "torch.Size([2, 48, 512])"
      ]
     },
     "execution_count": 17,
     "metadata": {},
     "output_type": "execute_result"
    }
   ],
   "source": [
    "model(**item[\"net_input\"], features_only=True)[0].shape"
   ]
  },
  {
   "cell_type": "code",
   "execution_count": 25,
   "metadata": {},
   "outputs": [],
   "source": [
    "from cureall.models import UCEConfig, UCEModel\n",
    "config = UCEConfig(pretrained_model_name_or_path=\"/home/wangxi/develop/cln/UCE/model_files/33l_8ep_1024t_1280.torch\")\n",
    "uce_model = UCEModel(config)"
   ]
  },
  {
   "cell_type": "code",
   "execution_count": 29,
   "metadata": {},
   "outputs": [
    {
     "data": {
      "text/plain": [
       "tensor([[-0.0414,  0.0028,  0.0113,  ...,  0.0067, -0.0247, -0.0405],\n",
       "        [-0.0161, -0.0215,  0.0104,  ..., -0.0109, -0.0413, -0.0269]],\n",
       "       grad_fn=<DivBackward0>)"
      ]
     },
     "execution_count": 29,
     "metadata": {},
     "output_type": "execute_result"
    }
   ],
   "source": [
    "uce_model(item[\"net_input\"][\"uce_batches\"][0], item[\"net_input\"][\"uce_batches\"][1])"
   ]
  }
 ],
 "metadata": {
  "kernelspec": {
   "display_name": "unicore",
   "language": "python",
   "name": "python3"
  },
  "language_info": {
   "codemirror_mode": {
    "name": "ipython",
    "version": 3
   },
   "file_extension": ".py",
   "mimetype": "text/x-python",
   "name": "python",
   "nbconvert_exporter": "python",
   "pygments_lexer": "ipython3",
   "version": "3.10.12"
  }
 },
 "nbformat": 4,
 "nbformat_minor": 2
}
